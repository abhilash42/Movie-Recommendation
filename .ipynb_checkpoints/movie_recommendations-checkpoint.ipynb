{
 "cells": [
  {
   "cell_type": "code",
   "execution_count": 2,
   "metadata": {
    "collapsed": true
   },
   "outputs": [],
   "source": [
    "from recommendation_data import dataset"
   ]
  },
  {
   "cell_type": "code",
   "execution_count": 3,
   "metadata": {},
   "outputs": [
    {
     "name": "stdout",
     "output_type": "stream",
     "text": [
      "Lisa rose LIW:2.5\n",
      "\n",
      "{'Lady in the Water': 3.0, 'Snakes on a Plane': 4.0, 'The Night Listener': 3.0, 'Superman Returns': 5.0, 'You, Me and Dupree': 3.5}\n"
     ]
    }
   ],
   "source": [
    "print(\"Lisa rose LIW:{}\\n\".format(dataset['Lisa Rose']['Lady in the Water']))\n",
    "print(dataset['Jack Matthews'])"
   ]
  },
  {
   "cell_type": "code",
   "execution_count": 4,
   "metadata": {
    "collapsed": true
   },
   "outputs": [],
   "source": [
    "from math import sqrt"
   ]
  },
  {
   "cell_type": "code",
   "execution_count": 5,
   "metadata": {
    "collapsed": true
   },
   "outputs": [],
   "source": [
    "def simi_score(person1,person2):\n",
    "    both_viewed={}\n",
    "    for item in dataset[person1]:\n",
    "        if item in dataset[person2]:\n",
    "            both_viewed[item]=1\n",
    "        # Conditions to check they both have an common rating items\n",
    "        if(len(both_viewed)==0):\n",
    "            return 0\n",
    "        \n",
    "        #finding euclindean distance\n",
    "        sum_of_euc_distance = []\n",
    "        \n",
    "        for item in dataset[person1]:\n",
    "            if item in dataset[person2]:\n",
    "                sum_of_euc_distance.append(pow(dataset[person1][item]-dataset[person2][item],2))\n",
    "        \n",
    "        sum_of_euc_distance = sum(sum_of_euc_distance)\n",
    "        \n",
    "        return 1/(1+sqrt(sum_of_euc_distance))\n",
    "    \n",
    "        "
   ]
  },
  {
   "cell_type": "code",
   "execution_count": 6,
   "metadata": {},
   "outputs": [
    {
     "name": "stdout",
     "output_type": "stream",
     "text": [
      "Claudia Puig\n",
      "Toby\n"
     ]
    },
    {
     "data": {
      "text/plain": [
       "0.3405424265831667"
      ]
     },
     "execution_count": 6,
     "metadata": {},
     "output_type": "execute_result"
    }
   ],
   "source": [
    "#finding people who are not at all similar to lisa rose\n",
    "for item in dataset:\n",
    "    if(simi_score('Lisa Rose',item)==0):\n",
    "        print(item)\n",
    "    \n",
    "simi_score('Lisa Rose','Jack Matthews')"
   ]
  },
  {
   "cell_type": "code",
   "execution_count": 7,
   "metadata": {
    "collapsed": true
   },
   "outputs": [],
   "source": [
    "#pearson correlation approach \n",
    "def pearson_correlation(person1,person2):\n",
    " \n",
    "    # To get both rated items\n",
    "    both_rated = {}\n",
    "    for item in dataset[person1]:\n",
    "        if item in dataset[person2]:\n",
    "            both_rated[item] = 1\n",
    " \n",
    "    number_of_ratings = len(both_rated)\n",
    "    \n",
    "    # Check no of ratings in common\n",
    "    if number_of_ratings == 0:\n",
    "        return 0\n",
    "    \n",
    "    person1_pref_sum = sum(dataset[person1][item] for item in both_rated)\n",
    "    person2_pref_sum = sum(dataset[person2][item] for item in both_rated)\n",
    "    \n",
    "    person1_square_preferences_sum = sum(pow(dataset[person1][item],2)for item in both_rated)\n",
    "    person2_square_preferences_sum = sum(pow(dataset[person2][item],2)for item in both_rated)\n",
    "    \n",
    "    prod_sum_of_both_users = sum(dataset[person1][item]*dataset[person2][item]for item in both_rated)\n",
    "    \n",
    "    numerator_value = prod_sum_of_both_users - (person1_pref_sum*person2_pref_sum/number_of_ratings)\n",
    "    denominator_value = sqrt((person1_square_preferences_sum - pow(person1_pref_sum,2)/number_of_ratings) * (person2_square_preferences_sum -pow(person2_pref_sum,2)/number_of_ratings))\n",
    "\n",
    "    if(denominator_value==0):\n",
    "        return 0\n",
    "    else:\n",
    "        r = numerator_value/denominator_value\n",
    "        return r\n",
    "    \n",
    "    \n",
    "    "
   ]
  },
  {
   "cell_type": "code",
   "execution_count": 8,
   "metadata": {},
   "outputs": [
    {
     "name": "stdout",
     "output_type": "stream",
     "text": [
      "0.39605901719066977\n"
     ]
    }
   ],
   "source": [
    "print(pearson_correlation('Lisa Rose','Gene Seymour'))"
   ]
  },
  {
   "cell_type": "code",
   "execution_count": 12,
   "metadata": {},
   "outputs": [
    {
     "name": "stdout",
     "output_type": "stream",
     "text": [
      "[(0.9912407071619299, 'Toby'), (0.7470178808339965, 'Jack Matthews'), (0.5940885257860044, 'Mick LaSalle')]\n"
     ]
    }
   ],
   "source": [
    "def most_similar_persons(person,num_of_users):\n",
    "    \n",
    "    scores = [(pearson_correlation(person,other),other)for other in dataset if other!=person]\n",
    "    \n",
    "    scores.sort()\n",
    "    scores.reverse()\n",
    "    return scores[0:num_of_users]\n",
    "\n",
    "print(most_similar_persons('Lisa Rose',3))  "
   ]
  },
  {
   "cell_type": "code",
   "execution_count": 35,
   "metadata": {},
   "outputs": [
    {
     "name": "stdout",
     "output_type": "stream",
     "text": [
      "Recommendations for Toby\n",
      "['The Night Listener', 'Lady in the Water', 'Just My Luck']\n"
     ]
    }
   ],
   "source": [
    "def user_recommendations(person):\n",
    "    totals={}\n",
    "    sim_sums={}\n",
    "    rankings_list=[]\n",
    "    for other in dataset:\n",
    "        if other==person:\n",
    "            continue\n",
    "        sim = pearson_correlation(person,other)\n",
    "        \n",
    "        if sim <=0:\n",
    "            continue;\n",
    "        for item in dataset[other]:\n",
    "            if( item not in dataset[person] or dataset[person][item]==0 ):\n",
    "                \n",
    "                totals.setdefault(item,0)\n",
    "                totals[item]+=dataset[other][item]*sim\n",
    "                \n",
    "                sim_sums.setdefault(item,0)\n",
    "                sim_sums[item]+=sim\n",
    "#     for item in totals:\n",
    "#         print(totals[item])\n",
    "    rankings = [(totals/sim_sums[item],item) for item,totals in totals.items()]\n",
    "    rankings.sort()\n",
    "    rankings.reverse()\n",
    "    #print(rankings)\n",
    "    recommendations_list = [recommend_item for score,recommend_item in rankings]\n",
    "    return recommendations_list\n",
    "print(\"Recommendations for Toby\")\n",
    "print(user_recommendations(\"Toby\"))"
   ]
  },
  {
   "cell_type": "code",
   "execution_count": null,
   "metadata": {
    "collapsed": true
   },
   "outputs": [],
   "source": []
  }
 ],
 "metadata": {
  "kernelspec": {
   "display_name": "Python 3",
   "language": "python",
   "name": "python3"
  },
  "language_info": {
   "codemirror_mode": {
    "name": "ipython",
    "version": 3
   },
   "file_extension": ".py",
   "mimetype": "text/x-python",
   "name": "python",
   "nbconvert_exporter": "python",
   "pygments_lexer": "ipython3",
   "version": "3.6.2"
  }
 },
 "nbformat": 4,
 "nbformat_minor": 2
}
